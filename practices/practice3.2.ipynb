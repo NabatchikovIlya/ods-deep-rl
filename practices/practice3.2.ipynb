{
 "cells": [
  {
   "cell_type": "code",
   "execution_count": 1,
   "id": "0bcb413d-d892-40f7-b7c2-71c9f8849a14",
   "metadata": {},
   "outputs": [],
   "source": [
    "import numpy as np\n",
    "import time\n",
    "from Frozen_Lake import FrozenLakeEnv\n",
    "\n",
    "env = FrozenLakeEnv()"
   ]
  },
  {
   "cell_type": "markdown",
   "id": "c1cea677-bfe6-4029-bd67-fa73931d0d95",
   "metadata": {},
   "source": [
    "Если награда не зависит от $s'$:\n",
    "$$\n",
    "q(s,a) = R(s, a) + \\gamma \\sum_{s'} P(s'|s,a) v(s')\n",
    "$$\n",
    "Если награда зависит от $s'$:\n",
    "$$\n",
    "q(s,a) = \\sum_{s'} P(s'|s,a) \\Big( R(s,a,s') + \\gamma v(s')\\Big)\n",
    "$$\n",
    "Если награда не зависит от $s'$ - это частный случай того, когда награда зависит от $s'$:\n",
    "$$\n",
    "q(s,a) = \\sum_{s'} P(s'|s,a) \\Big( R(s,a) + \\gamma v(s')\\Big) = R(s,a) \\sum_{s'} P(s'|s,a) + \\gamma \\sum_{s'} P(s'|s,a) v(s')\n",
    " = R(s, a) + \\gamma \\sum_{s'} P(s'|s,a) v(s')\n",
    "$$\n",
    "\n"
   ]
  },
  {
   "cell_type": "code",
   "execution_count": 2,
   "id": "b48c0b58-0990-4957-90cc-3987feeaf1f2",
   "metadata": {},
   "outputs": [],
   "source": [
    "def get_q_values(v_values, gamma):\n",
    "    q_values = {}\n",
    "    for state in env.get_all_states():\n",
    "        q_values[state] = {}\n",
    "        for action in env.get_possible_actions(state):\n",
    "            q_values[state][action] = 0\n",
    "            for next_state in env.get_next_states(state, action):\n",
    "                q_values[state][action] += env.get_transition_prob(state, action, next_state) * env.get_reward(state, action, next_state)\n",
    "                q_values[state][action] += gamma * env.get_transition_prob(state, action, next_state) * v_values[next_state]\n",
    "    return q_values"
   ]
  },
  {
   "cell_type": "code",
   "execution_count": 3,
   "id": "4dc79686-d690-4ff3-bbb4-f32e410bb4cc",
   "metadata": {},
   "outputs": [],
   "source": [
    "def init_policy():\n",
    "    policy = {}\n",
    "    for state in env.get_all_states():\n",
    "        policy[state] = {}\n",
    "        for action in env.get_possible_actions(state):\n",
    "            policy[state][action] = 1 / len(env.get_possible_actions(state))\n",
    "    return policy"
   ]
  },
  {
   "cell_type": "code",
   "execution_count": 4,
   "id": "76e7396a-760c-4287-b473-d96064d8d02b",
   "metadata": {},
   "outputs": [],
   "source": [
    "def init_v_values():\n",
    "    v_values = {}\n",
    "    for state in env.get_all_states():\n",
    "        v_values[state] = 0\n",
    "    return v_values"
   ]
  },
  {
   "cell_type": "code",
   "execution_count": 5,
   "id": "348f9a1d-4df4-49fd-92f3-2aceafcf3c1c",
   "metadata": {},
   "outputs": [],
   "source": [
    "def policy_evaluation_step(v_values, policy, gamma):\n",
    "    q_values = get_q_values(v_values, gamma)\n",
    "    new_v_values = init_v_values()\n",
    "    for state in env.get_all_states():\n",
    "        new_v_values[state] = 0\n",
    "        for action in env.get_possible_actions(state):\n",
    "            new_v_values[state] += policy[state][action] * q_values[state][action]\n",
    "    return new_v_values"
   ]
  },
  {
   "cell_type": "code",
   "execution_count": 6,
   "id": "aa145fed-9a3a-49bb-95f8-a6efc7b7f496",
   "metadata": {},
   "outputs": [],
   "source": [
    "def policy_evaluation(policy, gamma, eval_iter_n):\n",
    "    v_values = init_v_values()\n",
    "    for _ in range(eval_iter_n):\n",
    "        v_values = policy_evaluation_step(v_values, policy, gamma)\n",
    "    q_values = get_q_values(v_values, gamma)\n",
    "    return q_values"
   ]
  },
  {
   "cell_type": "code",
   "execution_count": 7,
   "id": "7236983d-04c1-4a45-b93d-fb4b10834516",
   "metadata": {},
   "outputs": [],
   "source": [
    "def policy_improvement(q_values):\n",
    "    policy = {}\n",
    "    for state in env.get_all_states():\n",
    "        policy[state] = {}\n",
    "        argmax_action = None\n",
    "        max_q_value = float('-inf')\n",
    "        for action in env.get_possible_actions(state): \n",
    "            policy[state][action] = 0\n",
    "            if q_values[state][action] > max_q_value:\n",
    "                argmax_action = action\n",
    "                max_q_value = q_values[state][action]\n",
    "        policy[state][argmax_action] = 1\n",
    "    return policy"
   ]
  },
  {
   "cell_type": "code",
   "execution_count": 8,
   "id": "7e23f38e-0ce9-4265-9c10-2e8a4c320f50",
   "metadata": {},
   "outputs": [],
   "source": [
    "iter_n = 100\n",
    "eval_iter_n = 100\n",
    "gamma = 0.999\n",
    "\n",
    "policy = init_policy()\n",
    "for _ in range(iter_n):\n",
    "    q_values = policy_evaluation(policy, gamma, eval_iter_n)\n",
    "    policy = policy_improvement(q_values)"
   ]
  },
  {
   "cell_type": "code",
   "execution_count": 12,
   "id": "7259a73b-deed-4675-92c6-329909768f49",
   "metadata": {},
   "outputs": [
    {
     "data": {
      "text/plain": [
       "0.859"
      ]
     },
     "execution_count": 12,
     "metadata": {},
     "output_type": "execute_result"
    }
   ],
   "source": [
    "total_rewards = []\n",
    "\n",
    "for _ in range(1000):\n",
    "    total_reward = 0\n",
    "    state = env.reset()\n",
    "    for _ in range(1000):\n",
    "        action = np.random.choice(env.get_possible_actions(state), p=list(policy[state].values()))\n",
    "        state, reward, done, _ = env.step(action)\n",
    "        total_reward += reward\n",
    "        \n",
    "        if done:\n",
    "            break\n",
    "    \n",
    "    total_rewards.append(total_reward)\n",
    "\n",
    "np.mean(total_rewards)"
   ]
  },
  {
   "cell_type": "code",
   "execution_count": 13,
   "id": "9c9d126a-3ada-4794-84c0-3b223ee97805",
   "metadata": {},
   "outputs": [
    {
     "data": {
      "text/plain": [
       "{(0, 0): {'left': 0, 'down': 1, 'right': 0, 'up': 0},\n",
       " (0, 1): {'left': 0, 'down': 0, 'right': 0, 'up': 1},\n",
       " (0, 2): {'left': 1, 'down': 0, 'right': 0, 'up': 0},\n",
       " (0, 3): {'left': 0, 'down': 0, 'right': 0, 'up': 1},\n",
       " (1, 0): {'left': 1, 'down': 0, 'right': 0, 'up': 0},\n",
       " (1, 1): {None: 1},\n",
       " (1, 2): {'left': 0, 'down': 1, 'right': 0, 'up': 0},\n",
       " (1, 3): {None: 1},\n",
       " (2, 0): {'left': 0, 'down': 0, 'right': 1, 'up': 0},\n",
       " (2, 1): {'left': 0, 'down': 1, 'right': 0, 'up': 0},\n",
       " (2, 2): {'left': 1, 'down': 0, 'right': 0, 'up': 0},\n",
       " (2, 3): {None: 1},\n",
       " (3, 0): {None: 1},\n",
       " (3, 1): {'left': 0, 'down': 0, 'right': 1, 'up': 0},\n",
       " (3, 2): {'left': 0, 'down': 0, 'right': 1, 'up': 0},\n",
       " (3, 3): {None: 1}}"
      ]
     },
     "execution_count": 13,
     "metadata": {},
     "output_type": "execute_result"
    }
   ],
   "source": [
    "policy"
   ]
  },
  {
   "cell_type": "code",
   "execution_count": 14,
   "id": "a7d63fe5-59b5-4e72-863c-1ed3808557e8",
   "metadata": {},
   "outputs": [
    {
     "name": "stdout",
     "output_type": "stream",
     "text": [
      "SFFF\n",
      "*HFH\n",
      "FFFH\n",
      "HFFG\n",
      "\n",
      "SFFF\n",
      "*HFH\n",
      "FFFH\n",
      "HFFG\n",
      "\n",
      "SFFF\n",
      "*HFH\n",
      "FFFH\n",
      "HFFG\n",
      "\n",
      "SFFF\n",
      "*HFH\n",
      "FFFH\n",
      "HFFG\n",
      "\n",
      "SFFF\n",
      "*HFH\n",
      "FFFH\n",
      "HFFG\n",
      "\n",
      "SFFF\n",
      "FHFH\n",
      "*FFH\n",
      "HFFG\n",
      "\n",
      "SFFF\n",
      "FHFH\n",
      "F*FH\n",
      "HFFG\n",
      "\n",
      "SFFF\n",
      "FHFH\n",
      "FFFH\n",
      "H*FG\n",
      "\n",
      "SFFF\n",
      "FHFH\n",
      "FFFH\n",
      "H*FG\n",
      "\n",
      "SFFF\n",
      "FHFH\n",
      "FFFH\n",
      "HF*G\n",
      "\n",
      "SFFF\n",
      "FHFH\n",
      "FFFH\n",
      "HFF*\n",
      "\n"
     ]
    }
   ],
   "source": [
    "state = env.reset()\n",
    "for _ in range(1000):\n",
    "    action = np.random.choice(env.get_possible_actions(state), p=list(policy[state].values()))\n",
    "    state, reward, done, _ = env.step(action)\n",
    "    total_reward += reward\n",
    "\n",
    "    env.render()\n",
    "    time.sleep(0.5)\n",
    "    \n",
    "    if done:\n",
    "        break"
   ]
  },
  {
   "cell_type": "code",
   "execution_count": null,
   "id": "55c652f6-6cfc-49ba-b7d6-dbe2bcb118c1",
   "metadata": {},
   "outputs": [],
   "source": []
  }
 ],
 "metadata": {
  "kernelspec": {
   "display_name": "Python 3 (ipykernel)",
   "language": "python",
   "name": "python3"
  },
  "language_info": {
   "codemirror_mode": {
    "name": "ipython",
    "version": 3
   },
   "file_extension": ".py",
   "mimetype": "text/x-python",
   "name": "python",
   "nbconvert_exporter": "python",
   "pygments_lexer": "ipython3",
   "version": "3.11.4"
  }
 },
 "nbformat": 4,
 "nbformat_minor": 5
}
