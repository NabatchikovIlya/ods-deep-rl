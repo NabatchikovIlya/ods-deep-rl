{
 "cells": [
  {
   "cell_type": "code",
   "execution_count": 1,
   "id": "45418c61-4b18-4a3d-921a-ff0edaa45b6f",
   "metadata": {},
   "outputs": [],
   "source": [
    "from Frozen_Lake import FrozenLakeEnv\n",
    "\n",
    "env = FrozenLakeEnv()"
   ]
  },
  {
   "cell_type": "code",
   "execution_count": 2,
   "id": "a9e7cf3b-5bd1-4441-8f6a-23e8b4064745",
   "metadata": {},
   "outputs": [
    {
     "data": {
      "text/plain": [
       "((0, 0),\n",
       " (0, 1),\n",
       " (0, 2),\n",
       " (0, 3),\n",
       " (1, 0),\n",
       " (1, 1),\n",
       " (1, 2),\n",
       " (1, 3),\n",
       " (2, 0),\n",
       " (2, 1),\n",
       " (2, 2),\n",
       " (2, 3),\n",
       " (3, 0),\n",
       " (3, 1),\n",
       " (3, 2),\n",
       " (3, 3))"
      ]
     },
     "execution_count": 2,
     "metadata": {},
     "output_type": "execute_result"
    }
   ],
   "source": [
    "env.get_all_states()"
   ]
  },
  {
   "cell_type": "code",
   "execution_count": 3,
   "id": "de597622-1229-4e51-87b7-98e6d29e2123",
   "metadata": {},
   "outputs": [
    {
     "data": {
      "text/plain": [
       "('left', 'down', 'right', 'up')"
      ]
     },
     "execution_count": 3,
     "metadata": {},
     "output_type": "execute_result"
    }
   ],
   "source": [
    "state = (0, 3)\n",
    "env.get_possible_actions(state)"
   ]
  },
  {
   "cell_type": "code",
   "execution_count": 4,
   "id": "7e991236-2615-45a6-873c-60886ec0f879",
   "metadata": {},
   "outputs": [
    {
     "name": "stdout",
     "output_type": "stream",
     "text": [
      "*FFF\n",
      "FHFH\n",
      "FFFH\n",
      "HFFG\n",
      "\n"
     ]
    }
   ],
   "source": [
    "env.render()"
   ]
  },
  {
   "cell_type": "code",
   "execution_count": 5,
   "id": "7fe87409-625a-4ead-b874-9d07b535b923",
   "metadata": {},
   "outputs": [
    {
     "data": {
      "text/plain": [
       "{(3, 2): 0.1, (3, 3): 0.8, (2, 2): 0.1}"
      ]
     },
     "execution_count": 5,
     "metadata": {},
     "output_type": "execute_result"
    }
   ],
   "source": [
    "state = (3, 2)\n",
    "action = 'right'\n",
    "env.get_next_states(state, action)"
   ]
  },
  {
   "cell_type": "code",
   "execution_count": 6,
   "id": "c1fde236-040a-4062-a3f2-42b8474b6670",
   "metadata": {},
   "outputs": [
    {
     "data": {
      "text/plain": [
       "0.8"
      ]
     },
     "execution_count": 6,
     "metadata": {},
     "output_type": "execute_result"
    }
   ],
   "source": [
    "next_state = (3, 3)\n",
    "env.get_transition_prob(state, action, next_state)"
   ]
  },
  {
   "cell_type": "code",
   "execution_count": 7,
   "id": "ad315e63-6fe7-4a5b-ac69-f45ab6bb64c7",
   "metadata": {},
   "outputs": [
    {
     "data": {
      "text/plain": [
       "1.0"
      ]
     },
     "execution_count": 7,
     "metadata": {},
     "output_type": "execute_result"
    }
   ],
   "source": [
    "env.get_reward(state, action, next_state)"
   ]
  },
  {
   "cell_type": "code",
   "execution_count": 8,
   "id": "e6efeaf1-7917-412e-9d62-9ec6b935edec",
   "metadata": {},
   "outputs": [
    {
     "data": {
      "text/plain": [
       "True"
      ]
     },
     "execution_count": 8,
     "metadata": {},
     "output_type": "execute_result"
    }
   ],
   "source": [
    "state = (1,1)\n",
    "env.is_terminal(state)"
   ]
  },
  {
   "cell_type": "code",
   "execution_count": null,
   "id": "ce0fb78d-d23e-4595-9359-8f38db21e6b0",
   "metadata": {},
   "outputs": [],
   "source": []
  }
 ],
 "metadata": {
  "kernelspec": {
   "display_name": "Python 3 (ipykernel)",
   "language": "python",
   "name": "python3"
  },
  "language_info": {
   "codemirror_mode": {
    "name": "ipython",
    "version": 3
   },
   "file_extension": ".py",
   "mimetype": "text/x-python",
   "name": "python",
   "nbconvert_exporter": "python",
   "pygments_lexer": "ipython3",
   "version": "3.11.4"
  }
 },
 "nbformat": 4,
 "nbformat_minor": 5
}
